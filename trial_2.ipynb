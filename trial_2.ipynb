{
 "cells": [
  {
   "cell_type": "code",
   "execution_count": 78,
   "metadata": {},
   "outputs": [],
   "source": [
    "import sys\n",
    "sys.path.append(\"..\")\n",
    "import os.path\n",
    "import pandas as pd\n",
    "import time\n",
    "from tqdm import tqdm\n",
    "import chromadb\n",
    "from openai import OpenAI\n",
    "import json\n",
    "\n",
    "from langchain.vectorstores import Chroma\n",
    "from langchain.embeddings.openai import OpenAIEmbeddings\n",
    "from langchain.chains import RetrievalQAWithSourcesChain\n",
    "from langchain.embeddings.openai import OpenAIEmbeddings\n",
    "from langchain.vectorstores import Qdrant\n",
    "from langchain.chat_models import ChatOpenAI\n",
    "from langchain.prompts import PromptTemplate\n",
    "from langchain.memory import ConversationSummaryMemory, ConversationBufferMemory"
   ]
  },
  {
   "cell_type": "code",
   "execution_count": 9,
   "metadata": {},
   "outputs": [],
   "source": [
    "class DeepInfraEmbeddings:\n",
    "    def __init__(self, api_key, base_url, model=\"BAAI/bge-base-en-v1.5\"):\n",
    "        self.client = OpenAI(api_key=api_key, base_url=base_url)\n",
    "        self.model = model\n",
    "\n",
    "    def embed_documents(self, texts):\n",
    "        if isinstance(texts, str):\n",
    "            texts = [texts]\n",
    "\n",
    "        embeddings = self.client.embeddings.create(\n",
    "            model=self.model,\n",
    "            input=texts,\n",
    "            encoding_format=\"float\"\n",
    "        )\n",
    "\n",
    "        return [embedding.embedding for embedding in embeddings.data]\n",
    "\n",
    "    def embed_query(self, text):\n",
    "        return self.embed_documents([text])[0]"
   ]
  },
  {
   "cell_type": "code",
   "execution_count": 10,
   "metadata": {},
   "outputs": [],
   "source": [
    "COLLECTION_NAME = \"big-basket-products-all\"\n",
    "\n",
    "# Create Chroma client\n",
    "# client = chromadb.Client()\n",
    "client = chromadb.PersistentClient(path=os.path.join(os.getcwd(), 'vector_stores'))\n",
    "\n",
    "# Load data\n",
    "file_path = os.path.join('./data/bigBasketProducts.csv')\n",
    "df = pd.read_csv(file_path)\n",
    "# df = df[:1000]\n",
    "metadatas = [{'source': int(df.loc[i][0]), 'row': i} for i in range(len(df))]\n",
    "docs = df.apply(lambda x: x.to_json(), axis=1).tolist()\n",
    "\n",
    "# Initialize DeepInfraEmbeddings with your API key and base URL\n",
    "embeddings = DeepInfraEmbeddings(\n",
    "    api_key=\"7E4hdDQrPP9mLi52rX4zCkJ2rFKIadOk\",\n",
    "    base_url=\"https://api.deepinfra.com/v1/openai\"\n",
    ")\n",
    "\n",
    "# Create Chroma collection\n",
    "vector_store = Chroma(\n",
    "    collection_name=COLLECTION_NAME,\n",
    "    embedding_function=embeddings,  # Pass the DeepInfraEmbeddings instance\n",
    "    client=client,\n",
    "    persist_directory = os.path.join(os.getcwd(), 'vector_stores')\n",
    ")"
   ]
  },
  {
   "cell_type": "code",
   "execution_count": 11,
   "metadata": {},
   "outputs": [],
   "source": [
    "retriever = vector_store.as_retriever(search_kwargs={\"k\": 5})"
   ]
  },
  {
   "cell_type": "code",
   "execution_count": 12,
   "metadata": {},
   "outputs": [],
   "source": [
    "docs = retriever.get_relevant_documents(\"what is skin care?\")"
   ]
  },
  {
   "cell_type": "code",
   "execution_count": 13,
   "metadata": {},
   "outputs": [
    {
     "name": "stdout",
     "output_type": "stream",
     "text": [
      "id None\n",
      "metadata {'row': 20544, 'source': 20545}\n",
      "page_content {\"index\":20545,\"product\":\"Vitamin E Face Wash\",\"category\":\"Beauty & Hygiene\",\"sub_category\":\"Skin Care\",\"brand\":\"INATUR \",\"sale_price\":315.0,\"market_price\":450.0,\"type\":\"Face Care\",\"rating\":null,\"description\":\"Inatur Vitamin E Face Cleanser is a mild and creamy formulation that removes dirt, impurities, and make-up gently. Being rich in anti-oxidants, it is effective in preserving the moisture balance of the skin. It leaves the skin nourished and hydrated making it look, soft, clean & healthy.\"}\n",
      "type Document\n",
      "id None\n",
      "metadata {'row': 8225, 'source': 8226}\n",
      "page_content {\"index\":8226,\"product\":\"Face Wash - Oily Skin\",\"category\":\"Beauty & Hygiene\",\"sub_category\":\"Men's Grooming\",\"brand\":\"USTRAA\",\"sale_price\":194.0,\"market_price\":199.0,\"type\":\"Face & Body\",\"rating\":3.0,\"description\":\"This face wash with basil and lime extracts gives a younger, fresher and oil-free appearance. This face wash checks acne and controls oil on the face with the help of salicylic acid. If you have an oily skin, then this is the skin care you need. This product is completely paraben and sulphate free.\"}\n",
      "type Document\n",
      "id None\n",
      "metadata {'row': 16313, 'source': 16314}\n",
      "page_content {\"index\":16314,\"product\":\"Face Wash - Oily Skin\",\"category\":\"Beauty & Hygiene\",\"sub_category\":\"Skin Care\",\"brand\":\"USTRAA\",\"sale_price\":194.0,\"market_price\":199.0,\"type\":\"Face & Body\",\"rating\":3.0,\"description\":\"This face wash with basil and lime extracts gives a younger, fresher and oil-free appearance. This face wash checks acne and controls oil on the face with the help of salicylic acid. If you have an oily skin, then this is the skin care you need. This product is completely paraben and sulphate free.\"}\n",
      "type Document\n",
      "id None\n",
      "metadata {'row': 7248, 'source': 7249}\n",
      "page_content {\"index\":7249,\"product\":\"Active Range Radiance Face Elixir Serum\",\"category\":\"Beauty & Hygiene\",\"sub_category\":\"Skin Care\",\"brand\":\"Organic Harvest\",\"sale_price\":1695.75,\"market_price\":1995.0,\"type\":\"Face Care\",\"rating\":null,\"description\":\"A light weight organic beauty fluid for face brightening and anti ageing. It is a special formulation of organic ingredients that help the skin retain its youthful appearance. The beauty serum is a unique blend of oils and organic ingredients formulated to help skin look young and healthy. Aimed to give a glowing skin and to provide deep nourishment, relieve dark circles and repairs pigmentation specially formulated to help fight the signs of skin ageing.\"}\n",
      "type Document\n",
      "id None\n",
      "metadata {'row': 4102, 'source': 4103}\n",
      "page_content {\"index\":4103,\"product\":\"Party Glow Facial Kit\",\"category\":\"Beauty & Hygiene\",\"sub_category\":\"Skin Care\",\"brand\":\"Vlcc\",\"sale_price\":167.05,\"market_price\":257.0,\"type\":\"Face Care\",\"rating\":4.1,\"description\":\"A revolutionary, 6 Step Facial System that helps you get that Facial Glow at the convenience of your home. It is a Do It Yourself Facial Kit, which allows you to get your facial done, all by yourself. It comes in the form of a Kit which combines all the steps. It helps in sloughing off dead skin cells. It also hydrates the skin and maintains its oil balance. This facial kit helps achieve a blemish-free, radiant complexion. It targets the skin areas for dullness and dehydration, making the skin soft and beautiful.Tip: Following a regular skin care regime can help you achieve flawless skin. For more tips on skin care, visit bigbasket lifestyle blog, Click Here to visit bigbasket\\u2019s lifestyle blog\"}\n",
      "type Document\n"
     ]
    }
   ],
   "source": [
    "for doc in docs:\n",
    "    for k, v in doc:\n",
    "        print(k, v)"
   ]
  },
  {
   "cell_type": "code",
   "execution_count": 93,
   "metadata": {},
   "outputs": [],
   "source": [
    "\n",
    "class NeuralSearcher:\n",
    "\n",
    "    def __init__(self, collection_name: str):\n",
    "        self.client = chromadb.PersistentClient(path=os.path.join(os.getcwd(), 'vector_stores'))\n",
    "        \n",
    "        self.embeddings = DeepInfraEmbeddings(\n",
    "                        api_key=\"7E4hdDQrPP9mLi52rX4zCkJ2rFKIadOk\",\n",
    "                        base_url=\"https://api.deepinfra.com/v1/openai\"\n",
    "                    )\n",
    "        self.vector_store = Chroma(\n",
    "                        collection_name=COLLECTION_NAME,\n",
    "                        embedding_function=self.embeddings,  # Pass the DeepInfraEmbeddings instance\n",
    "                        client=self.client,\n",
    "                        persist_directory = os.path.join(os.getcwd(), 'vector_stores')\n",
    "                    )\n",
    "        \n",
    "        self.llm = ChatOpenAI(\n",
    "            model='meta-llama/Meta-Llama-3.1-70B-Instruct',\n",
    "            api_key=\"7E4hdDQrPP9mLi52rX4zCkJ2rFKIadOk\",\n",
    "            base_url=\"https://api.deepinfra.com/v1/openai\",\n",
    "            max_tokens = 70000\n",
    "        )\n",
    "        \n",
    "        self.memory = ConversationBufferMemory(\n",
    "            llm=self.llm,\n",
    "            memory_key=\"chat_history\",\n",
    "            return_messages=True,\n",
    "            input_key=\"question\",\n",
    "            output_key='answer'\n",
    "        )\n",
    "        \n",
    "        prompt_template = '''\n",
    "        About: You are a Product Recommendation Agent who gets his context from the retrieved descriptions of the products that matches best with the User's query. \n",
    "        User is a human who, as a customer, wants to buy a product from this application.\n",
    "\n",
    "        Given below is the summary of conversation between you (AI) and the user (Human):\n",
    "        Context: {chat_history}\n",
    "\n",
    "        Now use this summary of previous conversations and the retrieved descriptions of products to answer the following question asked by the user:\n",
    "        Question: {question}\n",
    "\n",
    "        Note: \n",
    "        - Give your answer in a compreshenive manner in enumerated format.\n",
    "        - Do not generate any information on your own, striclty stick to the provided data. \n",
    "        - Also, do not repeat the information that is already present in the context.\n",
    "        - If, you feel there is redundant information (or) an product is being described twice, specify that as well in the response.\n",
    "        - The tone of the answer should be like a polite and friendly AI Assistant.\n",
    "        '''\n",
    "        self.PROMPT = PromptTemplate(\n",
    "            template=prompt_template, input_variables=[\"chat_history\", \"question\"]\n",
    "        )\n",
    "\n",
    "    def search(self, question: str, num_results: int, filter_: dict = None) -> dict:\n",
    "        chain = RetrievalQAWithSourcesChain.from_chain_type(\n",
    "            llm=self.llm,\n",
    "            chain_type=\"stuff\",\n",
    "            retriever=self.vector_store.as_retriever(search_kwargs={'k':num_results}),\n",
    "            memory=self.memory,\n",
    "            return_source_documents=True,\n",
    "        )\n",
    "\n",
    "        print(self.memory.load_memory_variables({})['chat_history'])\n",
    "        gen_prompt = self.PROMPT.format(question=question, \n",
    "                                        chat_history=self.memory.load_memory_variables({})['chat_history'])\n",
    "        start_time = time.time()\n",
    "        res = chain(gen_prompt)\n",
    "        print(f\"Search took {time.time() - start_time} seconds\")\n",
    "\n",
    "        ret = {}\n",
    "        ret['answer'] = res['answer']\n",
    "\n",
    "        srcs = [json.loads(row.page_content) for row in res['source_documents']]\n",
    "\n",
    "        df = pd.DataFrame(srcs)\n",
    "        df = df.fillna('null')\n",
    "        # df.set_index('product', inplace=True)\n",
    "\n",
    "        df1 = df[['product','brand', 'sale_price', 'rating', 'description']]\n",
    "\n",
    "        # Remove duplicates\n",
    "        df1 = df1.drop_duplicates()\n",
    "\n",
    "        ret['products'] = df1.to_dict(orient='records')\n",
    "        return ret\n",
    "    \n",
    "    def check_memory_history(self):\n",
    "        return self.memory.load_memory_variables({})"
   ]
  },
  {
   "cell_type": "code",
   "execution_count": 94,
   "metadata": {},
   "outputs": [],
   "source": [
    "neural_searcher = NeuralSearcher(collection_name=COLLECTION_NAME)"
   ]
  },
  {
   "cell_type": "code",
   "execution_count": 95,
   "metadata": {},
   "outputs": [
    {
     "name": "stdout",
     "output_type": "stream",
     "text": [
      "[]\n",
      "Search took 16.609533071517944 seconds\n"
     ]
    }
   ],
   "source": [
    "q = \"Suggest me some top 5 hair products?\"\n",
    "num_results = 5\n",
    "res = neural_searcher.search(question=q, num_results=num_results)"
   ]
  },
  {
   "cell_type": "code",
   "execution_count": 96,
   "metadata": {},
   "outputs": [
    {
     "name": "stdout",
     "output_type": "stream",
     "text": [
      "Here are the top 5 hair products that I would like to suggest to you:\n",
      "\n",
      "1. **Professional Brush** by Salon - This is a highly rated (5.0) tool that can help make hair application effortless and optimize the performance of your hair products.\n",
      "2. **Professional Brush - Roller** by Salon - Similar to the previous product, this one is also a high-quality brush (4.0 rating) that can help with hair styling.\n",
      "3. **Hair Roller - Medium 20 mm** by Daiou - This is a hair styling tool with a 4.0 rating that can help you achieve the desired look.\n",
      "4. **Hair Gel Super Hold** by Vi-john - This is a hair gel that can help set your hair in the style you want, and also makes your hair smell good for hours.\n",
      "\n",
      "Note that I have not included the **Balm - Ultra Power** product in the list as it seems to be more related to health and medicine rather than hair care.\n",
      "\n",
      "Also, I would like to mention that the **Professional Brush** and **Professional Brush - Roller** products seem to have similar descriptions, so you may want to consider them as similar products.\n",
      "\n",
      "I hope this helps you find the perfect hair product for your needs!\n",
      "\n",
      "\n"
     ]
    }
   ],
   "source": [
    "print(res['answer'])"
   ]
  },
  {
   "cell_type": "code",
   "execution_count": 86,
   "metadata": {},
   "outputs": [
    {
     "data": {
      "text/plain": [
       "{'answer': 'Here are the top 5 hair products I would like to suggest to you:\\n\\n1. **Professional Brush** by Salon - This is a 5-star rated product that will make your hair care routine effortless and optimize the performance of your hair care products. (',\n",
       " 'products': [{'product': 'Professional Brush',\n",
       "   'brand': 'Salon',\n",
       "   'sale_price': 500.0,\n",
       "   'rating': 5.0,\n",
       "   'description': 'The bestÃƒâ€šÂ\\xa0brushesÃƒâ€šÂ\\xa0will render application effortless and optimise the performance of your makeup products to their full potential  For Beauty tips, tricks & more visitÂ\\xa0https://bigbasket.blog/'},\n",
       "  {'product': 'Professional Brush - Roller',\n",
       "   'brand': 'Salon',\n",
       "   'sale_price': 500.0,\n",
       "   'rating': 4.0,\n",
       "   'description': 'The bestÃƒ€š\\xa0brushesÃƒ€š\\xa0will render application effortless and optimise the performance of your makeup products to their full potential  For Beauty tips, tricks & more visit\\xa0https://bigbasket.blog/'},\n",
       "  {'product': 'Hair Roller - Medium 20 mm',\n",
       "   'brand': 'Daiou',\n",
       "   'sale_price': 300.0,\n",
       "   'rating': 4.0,\n",
       "   'description': 'For Hair stylers  For Beauty tips, tricks & more visitÃ‚\\xa0https://bigbasket.blog/'},\n",
       "  {'product': 'Balm - Ultra Power',\n",
       "   'brand': 'Zandu',\n",
       "   'sale_price': 42.0,\n",
       "   'rating': 4.4,\n",
       "   'description': 'Ayurvedic Proprietary Medicine For External Use Only  For Beauty tips, tricks & more visitÃƒâ€šÃ‚Â\\xa0https://bigbasket.blog/'},\n",
       "  {'product': 'Hair Gel Super Hold',\n",
       "   'brand': 'Vi-john',\n",
       "   'sale_price': 22.5,\n",
       "   'rating': 'null',\n",
       "   'description': \"Style Set is no ordinary hair gel. It's your perfect hair styling partner. Just a small amount can set your hair in the look you want while also making your hair smell good for hours.\"}]}"
      ]
     },
     "execution_count": 86,
     "metadata": {},
     "output_type": "execute_result"
    }
   ],
   "source": [
    "res"
   ]
  },
  {
   "cell_type": "code",
   "execution_count": 91,
   "metadata": {},
   "outputs": [],
   "source": [
    "mem = neural_searcher.check_memory_history()"
   ]
  },
  {
   "cell_type": "code",
   "execution_count": 92,
   "metadata": {},
   "outputs": [
    {
     "name": "stdout",
     "output_type": "stream",
     "text": [
      "[HumanMessage(content=\"\\n        About: You are a Product Recommendation Agent who gets his context from the retrieved descriptions of the products that matches best with the User's query. \\n        User is a human who, as a customer, wants to buy a product from this application.\\n\\n        Given below is the summary of conversation between you (AI) and the user (Human):\\n        Context: []\\n\\n        Now use this summary of previous conversations and the retrieved descriptions of products to answer the following question asked by the user:\\n        Question: Suggest me some top 5 hair products?\\n\\n        Note: \\n        - Give your answer in a compreshenive manner in enumerated format.\\n        - Do not generate any information on your own, striclty stick to the provided data. \\n        - Also, do not repeat the information that is already present in the context.\\n        - If, you feel there is redundant information (or) an product is being described twice, specify that as well in the response.\\n        - The tone of the answer should be like a polite and friendly AI Assistant.\\n        \"), AIMessage(content='Based on the provided product descriptions, here are the top 5 hair product suggestions:\\n\\n1. **Professional Brush** by Salon - A high-rated (5.0) tool for effortless hair application and optimization of hair products. (')]\n"
     ]
    }
   ],
   "source": [
    "print(mem[\"chat_history\"])"
   ]
  },
  {
   "cell_type": "code",
   "execution_count": 70,
   "metadata": {},
   "outputs": [
    {
     "data": {
      "text/plain": [
       "{'chat_history': [SystemMessage(content='Here is the new summary:\\n\\nThe human is a customer looking to buy a product from the application, and the AI is a Product Recommendation Agent. The human asked the AI to suggest the top 5 hair products, and the AI provided a list of recommendations: a Professional Brush by Salon, a Hair Roller by Daiou, a Professional Brush - Roller by Salon, a Hair Gel Super Hold by Vi-john, and a Balm - Ultra Power by Zandu, noting that the first and third products seem similar but have slightly different descriptions.')]}"
      ]
     },
     "execution_count": 70,
     "metadata": {},
     "output_type": "execute_result"
    }
   ],
   "source": [
    "mem"
   ]
  },
  {
   "cell_type": "code",
   "execution_count": 74,
   "metadata": {},
   "outputs": [
    {
     "name": "stdout",
     "output_type": "stream",
     "text": [
      "Search took 22.008066654205322 seconds\n"
     ]
    }
   ],
   "source": [
    "q = \"Yes tell me the difference\"\n",
    "num_results = 5\n",
    "res = neural_searcher.search(question=q, num_results=num_results)"
   ]
  },
  {
   "cell_type": "code",
   "execution_count": 75,
   "metadata": {},
   "outputs": [
    {
     "name": "stdout",
     "output_type": "stream",
     "text": [
      "Here are the differences between the two products:\n",
      "\n",
      "1. **Index**: The index of \"Professional Brush\" is 10410, while the index of \"Professional Brush - Roller\" is 23125.\n",
      "2. **Product Name**: The product name of the first product is \"Professional Brush\", while the product name of the second product is \"Professional Brush - Roller\".\n",
      "3. **Rating**: The rating of the first product is 5.0, while the rating of the second product is 4.0.\n",
      "4. **Description**: Although the descriptions of both products seem similar, they are not identical. The description of the first product is: \"The best brushes will render application effortless and optimise the performance of your makeup products to their full potential...\" while the description of the second product is: \"The best brushes will render application effortless and optimise the performance of your makeup products to their full potential...\". Note that the descriptions seem more relevant to makeup products, not hair care products.\n",
      "\n",
      "It's worth noting that the two products seem to be similar, with the only difference being the addition of \"- Roller\" to the product name of the second product. However, the descriptions and other details are almost identical.\n",
      "\n",
      "\n"
     ]
    }
   ],
   "source": [
    "print(res['answer'])"
   ]
  },
  {
   "cell_type": "code",
   "execution_count": 73,
   "metadata": {},
   "outputs": [
    {
     "data": {
      "text/plain": [
       "{'answer': 'I\\'m happy to help you with your question about the first product.\\n\\nBased on the provided descriptions, the first product is the \"Professional Brush\" by Salon. Here are some additional details about this product:\\n\\n1. **Category and Sub-Category**: This product belongs to the \"Beauty & Hygiene\" category and \"Hair Care\" sub-category.\\n2. **Brand and Price**: The brand is Salon, and the sale price is ₹500.0 (which is the same as the market price).\\n3. **Type and Rating**: This product is classified as \"Tools & Accessories\" and has a rating of 5.0.\\n4. **Description**: Unfortunately, the description provided is not very detailed and seems to be more relevant to makeup products rather than hair care. It mentions that the best brushes will render application effortless and optimize the performance of makeup products.\\n\\nPlease note that there is another product called \"Professional Brush - Roller\" by Salon, which seems similar to this product but has a slightly different description. If you would like to know more about the differences between these two products, I\\'d be happy to help.',\n",
       " 'products': [{'product': 'Professional Brush - Roller',\n",
       "   'brand': 'Salon',\n",
       "   'sale_price': 500.0,\n",
       "   'rating': 4.0,\n",
       "   'description': 'The bestÃƒ€š\\xa0brushesÃƒ€š\\xa0will render application effortless and optimise the performance of your makeup products to their full potential  For Beauty tips, tricks & more visit\\xa0https://bigbasket.blog/'},\n",
       "  {'product': 'Professional Brush',\n",
       "   'brand': 'Salon',\n",
       "   'sale_price': 500.0,\n",
       "   'rating': 5.0,\n",
       "   'description': 'The bestÃƒâ€šÂ\\xa0brushesÃƒâ€šÂ\\xa0will render application effortless and optimise the performance of your makeup products to their full potential  For Beauty tips, tricks & more visitÂ\\xa0https://bigbasket.blog/'},\n",
       "  {'product': 'Hair Roller - Medium 20 mm',\n",
       "   'brand': 'Daiou',\n",
       "   'sale_price': 300.0,\n",
       "   'rating': 4.0,\n",
       "   'description': 'For Hair stylers  For Beauty tips, tricks & more visitÃ‚\\xa0https://bigbasket.blog/'},\n",
       "  {'product': 'Balm - Ultra Power',\n",
       "   'brand': 'Zandu',\n",
       "   'sale_price': 42.0,\n",
       "   'rating': 4.4,\n",
       "   'description': 'Ayurvedic Proprietary Medicine For External Use Only  For Beauty tips, tricks & more visitÃƒâ€šÃ‚Â\\xa0https://bigbasket.blog/'},\n",
       "  {'product': 'Hair Spray',\n",
       "   'brand': 'Novagold',\n",
       "   'sale_price': 1200.0,\n",
       "   'rating': 1.0,\n",
       "   'description': 'Info not in English  For Beauty tips, tricks & more visitÃƒ€š\\xa0https://bigbasket.blog/'}]}"
      ]
     },
     "execution_count": 73,
     "metadata": {},
     "output_type": "execute_result"
    }
   ],
   "source": [
    "res"
   ]
  },
  {
   "cell_type": "code",
   "execution_count": null,
   "metadata": {},
   "outputs": [],
   "source": []
  }
 ],
 "metadata": {
  "kernelspec": {
   "display_name": "test",
   "language": "python",
   "name": "python3"
  },
  "language_info": {
   "codemirror_mode": {
    "name": "ipython",
    "version": 3
   },
   "file_extension": ".py",
   "mimetype": "text/x-python",
   "name": "python",
   "nbconvert_exporter": "python",
   "pygments_lexer": "ipython3",
   "version": "3.12.4"
  }
 },
 "nbformat": 4,
 "nbformat_minor": 2
}
